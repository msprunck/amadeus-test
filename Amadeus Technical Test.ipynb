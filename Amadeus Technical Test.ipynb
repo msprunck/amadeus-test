{
 "metadata": {
  "name": "",
  "signature": "sha256:410adca7821f92695820991322059913aec875f70b12dc05ced9e04809eb18ea"
 },
 "nbformat": 3,
 "nbformat_minor": 0,
 "worksheets": [
  {
   "cells": [
    {
     "cell_type": "heading",
     "level": 1,
     "metadata": {},
     "source": [
      "Amadeus Technical Test"
     ]
    },
    {
     "cell_type": "heading",
     "level": 2,
     "metadata": {},
     "source": [
      "First exercise: count the number of lines in Python for each file"
     ]
    },
    {
     "cell_type": "markdown",
     "metadata": {},
     "source": [
      "Based on this solution: http://stackoverflow.com/a/9631635"
     ]
    },
    {
     "cell_type": "code",
     "collapsed": false,
     "input": [
      "def blocks(files, size=65536):\n",
      "    while True:\n",
      "        b = files.read(size)\n",
      "        if not b: break\n",
      "        yield b\n",
      "\n",
      "def count(file):\n",
      "    with open(file, \"r\") as f:\n",
      "        return sum(bl.count(\"\\n\") for bl in blocks(f))\n",
      "\n",
      "print 'The number of lines for bookings.csv is' , count('./data/bookings.csv')\n",
      "print 'The number of lines for searches.csv is' , count('./data/searches.csv')\n"
     ],
     "language": "python",
     "metadata": {},
     "outputs": [
      {
       "output_type": "stream",
       "stream": "stdout",
       "text": [
        "The number of lines for bookings.csv is "
       ]
      },
      {
       "output_type": "stream",
       "stream": "stdout",
       "text": [
        "10000011\n",
        "The number of lines for searches.csv is "
       ]
      },
      {
       "output_type": "stream",
       "stream": "stdout",
       "text": [
        "20390198\n"
       ]
      }
     ],
     "prompt_number": 8
    },
    {
     "cell_type": "heading",
     "level": 2,
     "metadata": {},
     "source": [
      "Second exercise: top 10 arrival airports in the world in 2013 (using the bookings file)"
     ]
    },
    {
     "cell_type": "markdown",
     "metadata": {},
     "source": [
      "Arrival airport is the column arr_port. It is the IATA code for the airport\n",
      "\n",
      "To get the total number of passengers for an airport, you can sum the column pax, grouping by arr_port. Note that there is negative pax. That corresponds to cancelations. So to get the total number of passengers that have actually booked, you should sum including the negatives (that will remove the canceled bookings).\n",
      "\n",
      "Print the top 10 arrival airports in the standard output, including the number of passengers.\n",
      "\n",
      "Bonus point: Get the name of the city or airport corresponding to that airport (programatically, we suggest to have a look at GeoBases in Github)\n",
      "\n",
      "Bonus point: Solve this problem using pandas (instead of any other approach) "
     ]
    },
    {
     "cell_type": "heading",
     "level": 3,
     "metadata": {},
     "source": [
      "Data overview"
     ]
    },
    {
     "cell_type": "code",
     "collapsed": false,
     "input": [
      "import pandas as pd\n",
      "\n",
      "bookings_data = pd.read_csv(\"./data/bookings.csv\", error_bad_lines=False, sep='^', nrows=3000)\n",
      "bookings_data[:5]"
     ],
     "language": "python",
     "metadata": {},
     "outputs": [
      {
       "html": [
        "<div style=\"max-height:1000px;max-width:1500px;overflow:auto;\">\n",
        "<table border=\"1\" class=\"dataframe\">\n",
        "  <thead>\n",
        "    <tr style=\"text-align: right;\">\n",
        "      <th></th>\n",
        "      <th>act_date           </th>\n",
        "      <th>source</th>\n",
        "      <th>pos_ctry</th>\n",
        "      <th>pos_iata</th>\n",
        "      <th>pos_oid  </th>\n",
        "      <th>rloc          </th>\n",
        "      <th>cre_date           </th>\n",
        "      <th>duration</th>\n",
        "      <th>distance</th>\n",
        "      <th>dep_port</th>\n",
        "      <th>...</th>\n",
        "      <th>route          </th>\n",
        "      <th>carrier</th>\n",
        "      <th>bkg_class</th>\n",
        "      <th>cab_class</th>\n",
        "      <th>brd_time           </th>\n",
        "      <th>off_time           </th>\n",
        "      <th>pax</th>\n",
        "      <th>year</th>\n",
        "      <th>month</th>\n",
        "      <th>oid      </th>\n",
        "    </tr>\n",
        "  </thead>\n",
        "  <tbody>\n",
        "    <tr>\n",
        "      <th>0</th>\n",
        "      <td> 2013-03-05 00:00:00</td>\n",
        "      <td> 1A    </td>\n",
        "      <td> DE      </td>\n",
        "      <td> a68dd7ae953c8acfb187a1af2dcbe123</td>\n",
        "      <td> 1a11ae49fcbf545fd2afc1a24d88d2b7</td>\n",
        "      <td> ea65900e72d71f4626378e2ebd298267</td>\n",
        "      <td> 2013-02-22 00:00:00</td>\n",
        "      <td>   1708</td>\n",
        "      <td> 0</td>\n",
        "      <td> ZRH     </td>\n",
        "      <td>...</td>\n",
        "      <td> LHRZRH         </td>\n",
        "      <td> VI</td>\n",
        "      <td> T        </td>\n",
        "      <td> Y        </td>\n",
        "      <td> 2013-03-07 08:50:00</td>\n",
        "      <td> 2013-03-07 11:33:37</td>\n",
        "      <td>-1</td>\n",
        "      <td> 2013</td>\n",
        "      <td> 3</td>\n",
        "      <td> NULL     </td>\n",
        "    </tr>\n",
        "    <tr>\n",
        "      <th>1</th>\n",
        "      <td> 2013-03-26 00:00:00</td>\n",
        "      <td> 1A    </td>\n",
        "      <td> US      </td>\n",
        "      <td> e612b9eeeee6f17f42d9b0d3b79e75ca</td>\n",
        "      <td> 7437560d8f276d6d05eeb806d9e7edee</td>\n",
        "      <td> 737295a86982c941f1c2da9a46a14043</td>\n",
        "      <td> 2013-03-26 00:00:00</td>\n",
        "      <td> 135270</td>\n",
        "      <td> 0</td>\n",
        "      <td> SAL     </td>\n",
        "      <td>...</td>\n",
        "      <td> SALATLCLT      </td>\n",
        "      <td> NV</td>\n",
        "      <td> L        </td>\n",
        "      <td> Y        </td>\n",
        "      <td> 2013-04-12 13:04:00</td>\n",
        "      <td> 2013-04-12 22:05:40</td>\n",
        "      <td> 1</td>\n",
        "      <td> 2013</td>\n",
        "      <td> 3</td>\n",
        "      <td> NULL     </td>\n",
        "    </tr>\n",
        "    <tr>\n",
        "      <th>2</th>\n",
        "      <td> 2013-03-26 00:00:00</td>\n",
        "      <td> 1A    </td>\n",
        "      <td> US      </td>\n",
        "      <td> e612b9eeeee6f17f42d9b0d3b79e75ca</td>\n",
        "      <td> 7437560d8f276d6d05eeb806d9e7edee</td>\n",
        "      <td> 737295a86982c941f1c2da9a46a14043</td>\n",
        "      <td> 2013-03-26 00:00:00</td>\n",
        "      <td> 135270</td>\n",
        "      <td> 0</td>\n",
        "      <td> SAL     </td>\n",
        "      <td>...</td>\n",
        "      <td> CLTATLSAL      </td>\n",
        "      <td> NV</td>\n",
        "      <td> U        </td>\n",
        "      <td> Y        </td>\n",
        "      <td> 2013-07-15 07:00:00</td>\n",
        "      <td> 2013-07-15 11:34:51</td>\n",
        "      <td> 1</td>\n",
        "      <td> 2013</td>\n",
        "      <td> 3</td>\n",
        "      <td> NULL     </td>\n",
        "    </tr>\n",
        "    <tr>\n",
        "      <th>3</th>\n",
        "      <td> 2013-03-26 00:00:00</td>\n",
        "      <td> 1A    </td>\n",
        "      <td> AU      </td>\n",
        "      <td> 0f984b3bb6bd06661c95529bbd6193bc</td>\n",
        "      <td> 36472c6dbaf7afec9136ac40364e2794</td>\n",
        "      <td> 5ecf00fdcbcec761c43dc7285253d0c1</td>\n",
        "      <td> 2013-03-26 00:00:00</td>\n",
        "      <td>  30885</td>\n",
        "      <td> 0</td>\n",
        "      <td> AKL     </td>\n",
        "      <td>...</td>\n",
        "      <td> AKLHKGSVO      </td>\n",
        "      <td> XK</td>\n",
        "      <td> G        </td>\n",
        "      <td> Y        </td>\n",
        "      <td> 2013-04-24 23:59:00</td>\n",
        "      <td> 2013-04-25 16:06:31</td>\n",
        "      <td> 1</td>\n",
        "      <td> 2013</td>\n",
        "      <td> 3</td>\n",
        "      <td> SYDA82546</td>\n",
        "    </tr>\n",
        "    <tr>\n",
        "      <th>4</th>\n",
        "      <td> 2013-03-26 00:00:00</td>\n",
        "      <td> 1A    </td>\n",
        "      <td> AU      </td>\n",
        "      <td> 0f984b3bb6bd06661c95529bbd6193bc</td>\n",
        "      <td> 36472c6dbaf7afec9136ac40364e2794</td>\n",
        "      <td> 5ecf00fdcbcec761c43dc7285253d0c1</td>\n",
        "      <td> 2013-03-26 00:00:00</td>\n",
        "      <td>  30885</td>\n",
        "      <td> 0</td>\n",
        "      <td> AKL     </td>\n",
        "      <td>...</td>\n",
        "      <td> SVOHKGAKL      </td>\n",
        "      <td> XK</td>\n",
        "      <td> G        </td>\n",
        "      <td> Y        </td>\n",
        "      <td> 2013-05-14 20:15:00</td>\n",
        "      <td> 2013-05-16 10:44:50</td>\n",
        "      <td> 1</td>\n",
        "      <td> 2013</td>\n",
        "      <td> 3</td>\n",
        "      <td> SYDA82546</td>\n",
        "    </tr>\n",
        "  </tbody>\n",
        "</table>\n",
        "<p>5 rows \u00d7 38 columns</p>\n",
        "</div>"
       ],
       "metadata": {},
       "output_type": "pyout",
       "prompt_number": 3,
       "text": [
        "   act_date             source  pos_ctry                          pos_iata  \\\n",
        "0  2013-03-05 00:00:00  1A      DE        a68dd7ae953c8acfb187a1af2dcbe123   \n",
        "1  2013-03-26 00:00:00  1A      US        e612b9eeeee6f17f42d9b0d3b79e75ca   \n",
        "2  2013-03-26 00:00:00  1A      US        e612b9eeeee6f17f42d9b0d3b79e75ca   \n",
        "3  2013-03-26 00:00:00  1A      AU        0f984b3bb6bd06661c95529bbd6193bc   \n",
        "4  2013-03-26 00:00:00  1A      AU        0f984b3bb6bd06661c95529bbd6193bc   \n",
        "\n",
        "                          pos_oid                      rloc            \\\n",
        "0  1a11ae49fcbf545fd2afc1a24d88d2b7  ea65900e72d71f4626378e2ebd298267   \n",
        "1  7437560d8f276d6d05eeb806d9e7edee  737295a86982c941f1c2da9a46a14043   \n",
        "2  7437560d8f276d6d05eeb806d9e7edee  737295a86982c941f1c2da9a46a14043   \n",
        "3  36472c6dbaf7afec9136ac40364e2794  5ecf00fdcbcec761c43dc7285253d0c1   \n",
        "4  36472c6dbaf7afec9136ac40364e2794  5ecf00fdcbcec761c43dc7285253d0c1   \n",
        "\n",
        "   cre_date             duration  distance  dep_port    ...     \\\n",
        "0  2013-02-22 00:00:00      1708         0  ZRH         ...      \n",
        "1  2013-03-26 00:00:00    135270         0  SAL         ...      \n",
        "2  2013-03-26 00:00:00    135270         0  SAL         ...      \n",
        "3  2013-03-26 00:00:00     30885         0  AKL         ...      \n",
        "4  2013-03-26 00:00:00     30885         0  AKL         ...      \n",
        "\n",
        "   route           carrier  bkg_class  cab_class  brd_time             \\\n",
        "0  LHRZRH               VI  T          Y          2013-03-07 08:50:00   \n",
        "1  SALATLCLT            NV  L          Y          2013-04-12 13:04:00   \n",
        "2  CLTATLSAL            NV  U          Y          2013-07-15 07:00:00   \n",
        "3  AKLHKGSVO            XK  G          Y          2013-04-24 23:59:00   \n",
        "4  SVOHKGAKL            XK  G          Y          2013-05-14 20:15:00   \n",
        "\n",
        "   off_time            pax  year month  oid        \n",
        "0  2013-03-07 11:33:37  -1  2013     3  NULL       \n",
        "1  2013-04-12 22:05:40   1  2013     3  NULL       \n",
        "2  2013-07-15 11:34:51   1  2013     3  NULL       \n",
        "3  2013-04-25 16:06:31   1  2013     3  SYDA82546  \n",
        "4  2013-05-16 10:44:50   1  2013     3  SYDA82546  \n",
        "\n",
        "[5 rows x 38 columns]"
       ]
      }
     ],
     "prompt_number": 3
    },
    {
     "cell_type": "heading",
     "level": 3,
     "metadata": {},
     "source": [
      "Create a subset for test purpose"
     ]
    },
    {
     "cell_type": "code",
     "collapsed": false,
     "input": [
      "bookings_data[:3000].to_csv(\"./data/bookings2.csv\", sep='^')"
     ],
     "language": "python",
     "metadata": {},
     "outputs": [],
     "prompt_number": 4
    },
    {
     "cell_type": "markdown",
     "metadata": {},
     "source": [
      "Based on this solution http://stackoverflow.com/a/15800314"
     ]
    },
    {
     "cell_type": "code",
     "collapsed": false,
     "input": [
      "import os\n",
      "import numpy\n",
      "import pandas as pd\n",
      "from GeoBases import GeoBase\n",
      "from datetime import datetime\n",
      "\n",
      "# HDFS store filename\n",
      "FSTORE = './data/bookings.h5'\n",
      "# Data filename\n",
      "#FDATA = './data/bookings2.csv'\n",
      "FDATA = './data/bookings.csv'\n",
      "FRESULT  ='./data/topairports.csv'\n",
      "CREATE_HDFS = True\n",
      "\n",
      "def log(msg):\n",
      "    \"\"\"To log message with datetime.\"\"\"\n",
      "    print datetime.now().strftime(\"%Y-%m-%d %H:%M:%S %f\") + ': ' + msg\n",
      "\n",
      "def createHDFStore(store_filename, data_filename):\n",
      "    \"\"\"Create the HFFStore.\"\"\"\n",
      "    store = pd.HDFStore(store_filename, mode='w')\n",
      "    try:\n",
      "        if 'df' in store:\n",
      "            store.remove('df')\n",
      "\n",
      "        bookings_cols = ['pax', 'arr_port']\n",
      "\n",
      "        for chunk in pd.read_csv(data_filename, dtype={'arr_port': numpy.str_, 'pax': numpy.float32}, chunksize=50000, error_bad_lines=False, sep='^', usecols=bookings_cols):\n",
      "                #chunk['arr_port'] = chunk['arr_port'].str.strip() \n",
      "                store.append('df',chunk, data_columns=True)\n",
      "    finally:\n",
      "        store.close()\n",
      "\n",
      "# Create the HDFStore    \n",
      "if CREATE_HDFS:\n",
      "    log('Create HDFS store')\n",
      "    createHDFStore(FSTORE, FDATA)\n",
      "\n",
      "# Open the created store\n",
      "store = pd.HDFStore(FSTORE, mode='r')\n",
      "\n",
      "try:\n",
      "    # get groups\n",
      "    log('Get the groups')\n",
      "    groups = store.select_column('df','arr_port').unique()\n",
      "\n",
      "    # create an empty data frame as result\n",
      "    df = pd.DataFrame(columns=['airport', 'total'], index=groups)\n",
      "\n",
      "    geo_o = GeoBase(data='ori_por', verbose=False)\n",
      "\n",
      "    # iterate over groups and apply my operations\n",
      "    log('Iterate over groups')\n",
      "    for g in groups:\n",
      "\n",
      "        grp = store.select('df', where = \"arr_port='%s'\" % g)\n",
      "\n",
      "        # Set the sum in the empty dataframe\n",
      "        total = grp[['pax']].sum()\n",
      "        df['total'][g] = total['pax']\n",
      "        df['airport'][g] = geo_o.get(g.strip(), 'name', default=\"Undefined\")\n",
      " \n",
      "    # Sort in descending order\n",
      "    log('Sort results')\n",
      "    result = df.sort(['total'], ascending=[0])\n",
      "    \n",
      "    # Store result\n",
      "    log('Store and print results')\n",
      "    result.to_csv(FRESULT, sep='\\t')\n",
      "    print \"\\nTop 10 arrival airports:\\n%s\" % result[:10]\n",
      "finally:\n",
      "    # Release HDFS store\n",
      "    store.close()"
     ],
     "language": "python",
     "metadata": {},
     "outputs": [
      {
       "output_type": "stream",
       "stream": "stdout",
       "text": [
        "2014-09-10 13:45:25 105000: Get the groups\n",
        "2014-09-10 13:45:28 188000: Iterate over groups"
       ]
      },
      {
       "output_type": "stream",
       "stream": "stdout",
       "text": [
        "\n",
        "2014-09-10 13:49:03 855000: Sort results"
       ]
      },
      {
       "output_type": "stream",
       "stream": "stdout",
       "text": [
        "\n",
        "2014-09-10 13:49:03 861000: Store and print results\n",
        "\n",
        "Top 10 arrival airports:\n",
        "                                       airport  total\n",
        "LHR                    London Heathrow Airport  88809\n",
        "MCO              Orlando International Airport  70930\n",
        "LAX          Los Angeles International Airport  70530\n",
        "LAS            Mc Carran International Airport  69630\n",
        "JFK       John F Kennedy International Airport  66270\n",
        "CDG                  Paris - Charles-de-Gaulle  64490\n",
        "BKK                               Suvarnabhumi  59460\n",
        "MIA                Miami International Airport  58150\n",
        "SFO        San Francisco International Airport  58000\n",
        "DXB                Dubai International Airport  55590\n"
       ]
      }
     ],
     "prompt_number": 1
    },
    {
     "cell_type": "heading",
     "level": 2,
     "metadata": {},
     "source": [
      "Third exercise: plot the monthly number of searches for flights arriving at M\u00e1laga, Madrid or Barcelona"
     ]
    },
    {
     "cell_type": "markdown",
     "metadata": {},
     "source": [
      "For the arriving airport, you can use the Destination column in the searches file. Plot a curve for M\u00e1laga, another one for Madrid, and another one for Barcelona, in the same figure. Bonus point: Solving this problem using pandas (instead of any other approach) "
     ]
    },
    {
     "cell_type": "heading",
     "level": 3,
     "metadata": {},
     "source": [
      "Data overview"
     ]
    },
    {
     "cell_type": "code",
     "collapsed": false,
     "input": [
      "import pandas as pd\n",
      "\n",
      "searches_data = pd.read_csv(\"./data/searches.csv\", error_bad_lines=False, sep='^', nrows=3000)\n",
      "searches_data[:5]"
     ],
     "language": "python",
     "metadata": {},
     "outputs": [
      {
       "html": [
        "<div style=\"max-height:1000px;max-width:1500px;overflow:auto;\">\n",
        "<table border=\"1\" class=\"dataframe\">\n",
        "  <thead>\n",
        "    <tr style=\"text-align: right;\">\n",
        "      <th></th>\n",
        "      <th>Date</th>\n",
        "      <th>Time</th>\n",
        "      <th>TxnCode</th>\n",
        "      <th>OfficeID</th>\n",
        "      <th>Country</th>\n",
        "      <th>Origin</th>\n",
        "      <th>Destination</th>\n",
        "      <th>RoundTrip</th>\n",
        "      <th>NbSegments</th>\n",
        "      <th>Seg1Departure</th>\n",
        "      <th>...</th>\n",
        "      <th>Seg6Arrival</th>\n",
        "      <th>Seg6Date</th>\n",
        "      <th>Seg6Carrier</th>\n",
        "      <th>Seg6BookingCode</th>\n",
        "      <th>From</th>\n",
        "      <th>IsPublishedForNeg</th>\n",
        "      <th>IsFromInternet</th>\n",
        "      <th>IsFromVista</th>\n",
        "      <th>TerminalID</th>\n",
        "      <th>InternetOffice</th>\n",
        "    </tr>\n",
        "  </thead>\n",
        "  <tbody>\n",
        "    <tr>\n",
        "      <th>0</th>\n",
        "      <td> 2013-01-01</td>\n",
        "      <td> 20:25:57</td>\n",
        "      <td> MPT</td>\n",
        "      <td> 624d8c3ac0b3a7ca03e3c167e0f48327</td>\n",
        "      <td> DE</td>\n",
        "      <td> TXL</td>\n",
        "      <td> AUH</td>\n",
        "      <td> 1</td>\n",
        "      <td> 2</td>\n",
        "      <td> TXL</td>\n",
        "      <td>...</td>\n",
        "      <td> NaN</td>\n",
        "      <td> NaN</td>\n",
        "      <td> NaN</td>\n",
        "      <td> NaN</td>\n",
        "      <td> 1ASIWS</td>\n",
        "      <td> 0</td>\n",
        "      <td> 0</td>\n",
        "      <td> 0</td>\n",
        "      <td> d41d8cd98f00b204e9800998ecf8427e</td>\n",
        "      <td> FRA</td>\n",
        "    </tr>\n",
        "    <tr>\n",
        "      <th>1</th>\n",
        "      <td> 2013-01-01</td>\n",
        "      <td> 10:15:33</td>\n",
        "      <td> MPT</td>\n",
        "      <td> b0af35b31588dc4ab06d5cf2986e8e02</td>\n",
        "      <td> MD</td>\n",
        "      <td> ATH</td>\n",
        "      <td> MIL</td>\n",
        "      <td> 0</td>\n",
        "      <td> 1</td>\n",
        "      <td> ATH</td>\n",
        "      <td>...</td>\n",
        "      <td> NaN</td>\n",
        "      <td> NaN</td>\n",
        "      <td> NaN</td>\n",
        "      <td> NaN</td>\n",
        "      <td> 1ASIWS</td>\n",
        "      <td> 0</td>\n",
        "      <td> 0</td>\n",
        "      <td> 0</td>\n",
        "      <td> d41d8cd98f00b204e9800998ecf8427e</td>\n",
        "      <td> KIV</td>\n",
        "    </tr>\n",
        "    <tr>\n",
        "      <th>2</th>\n",
        "      <td> 2013-01-01</td>\n",
        "      <td> 18:04:49</td>\n",
        "      <td> MPT</td>\n",
        "      <td> 3561a60621de06ab1badc8ca55699ef3</td>\n",
        "      <td> US</td>\n",
        "      <td> ICT</td>\n",
        "      <td> SFO</td>\n",
        "      <td> 1</td>\n",
        "      <td> 2</td>\n",
        "      <td> ICT</td>\n",
        "      <td>...</td>\n",
        "      <td> NaN</td>\n",
        "      <td> NaN</td>\n",
        "      <td> NaN</td>\n",
        "      <td> NaN</td>\n",
        "      <td> 1ASIWS</td>\n",
        "      <td> 0</td>\n",
        "      <td> 0</td>\n",
        "      <td> 0</td>\n",
        "      <td> d41d8cd98f00b204e9800998ecf8427e</td>\n",
        "      <td> NYC</td>\n",
        "    </tr>\n",
        "    <tr>\n",
        "      <th>3</th>\n",
        "      <td> 2013-01-01</td>\n",
        "      <td> 17:42:40</td>\n",
        "      <td> FXP</td>\n",
        "      <td> 1864e5e8013d9414150e91d26b6a558b</td>\n",
        "      <td> SE</td>\n",
        "      <td> RNB</td>\n",
        "      <td> ARN</td>\n",
        "      <td> 0</td>\n",
        "      <td> 1</td>\n",
        "      <td> RNB</td>\n",
        "      <td>...</td>\n",
        "      <td> NaN</td>\n",
        "      <td> NaN</td>\n",
        "      <td> NaN</td>\n",
        "      <td> NaN</td>\n",
        "      <td>   1ASI</td>\n",
        "      <td> 0</td>\n",
        "      <td> 0</td>\n",
        "      <td> 0</td>\n",
        "      <td> d41d8cd98f00b204e9800998ecf8427e</td>\n",
        "      <td> STO</td>\n",
        "    </tr>\n",
        "    <tr>\n",
        "      <th>4</th>\n",
        "      <td> 2013-01-01</td>\n",
        "      <td> 17:48:29</td>\n",
        "      <td> MPT</td>\n",
        "      <td> 1ec336348f44207d2e0027dc3a68c118</td>\n",
        "      <td> NO</td>\n",
        "      <td> OSL</td>\n",
        "      <td> MAD</td>\n",
        "      <td> 1</td>\n",
        "      <td> 2</td>\n",
        "      <td> OSL</td>\n",
        "      <td>...</td>\n",
        "      <td> NaN</td>\n",
        "      <td> NaN</td>\n",
        "      <td> NaN</td>\n",
        "      <td> NaN</td>\n",
        "      <td> 1ASIWS</td>\n",
        "      <td> 0</td>\n",
        "      <td> 0</td>\n",
        "      <td> 0</td>\n",
        "      <td> d41d8cd98f00b204e9800998ecf8427e</td>\n",
        "      <td> OSL</td>\n",
        "    </tr>\n",
        "  </tbody>\n",
        "</table>\n",
        "<p>5 rows \u00d7 45 columns</p>\n",
        "</div>"
       ],
       "metadata": {},
       "output_type": "pyout",
       "prompt_number": 7,
       "text": [
        "         Date      Time TxnCode                          OfficeID Country  \\\n",
        "0  2013-01-01  20:25:57     MPT  624d8c3ac0b3a7ca03e3c167e0f48327      DE   \n",
        "1  2013-01-01  10:15:33     MPT  b0af35b31588dc4ab06d5cf2986e8e02      MD   \n",
        "2  2013-01-01  18:04:49     MPT  3561a60621de06ab1badc8ca55699ef3      US   \n",
        "3  2013-01-01  17:42:40     FXP  1864e5e8013d9414150e91d26b6a558b      SE   \n",
        "4  2013-01-01  17:48:29     MPT  1ec336348f44207d2e0027dc3a68c118      NO   \n",
        "\n",
        "  Origin Destination  RoundTrip  NbSegments Seg1Departure      ...       \\\n",
        "0    TXL         AUH          1           2           TXL      ...        \n",
        "1    ATH         MIL          0           1           ATH      ...        \n",
        "2    ICT         SFO          1           2           ICT      ...        \n",
        "3    RNB         ARN          0           1           RNB      ...        \n",
        "4    OSL         MAD          1           2           OSL      ...        \n",
        "\n",
        "  Seg6Arrival Seg6Date Seg6Carrier Seg6BookingCode    From IsPublishedForNeg  \\\n",
        "0         NaN      NaN         NaN             NaN  1ASIWS                 0   \n",
        "1         NaN      NaN         NaN             NaN  1ASIWS                 0   \n",
        "2         NaN      NaN         NaN             NaN  1ASIWS                 0   \n",
        "3         NaN      NaN         NaN             NaN    1ASI                 0   \n",
        "4         NaN      NaN         NaN             NaN  1ASIWS                 0   \n",
        "\n",
        "  IsFromInternet IsFromVista                        TerminalID InternetOffice  \n",
        "0              0           0  d41d8cd98f00b204e9800998ecf8427e            FRA  \n",
        "1              0           0  d41d8cd98f00b204e9800998ecf8427e            KIV  \n",
        "2              0           0  d41d8cd98f00b204e9800998ecf8427e            NYC  \n",
        "3              0           0  d41d8cd98f00b204e9800998ecf8427e            STO  \n",
        "4              0           0  d41d8cd98f00b204e9800998ecf8427e            OSL  \n",
        "\n",
        "[5 rows x 45 columns]"
       ]
      }
     ],
     "prompt_number": 7
    },
    {
     "cell_type": "heading",
     "level": 3,
     "metadata": {},
     "source": [
      "Create a subset for test purpose"
     ]
    },
    {
     "cell_type": "code",
     "collapsed": false,
     "input": [
      "searches_data[:3000].to_csv(\"./data/searches2.csv\", sep='^')"
     ],
     "language": "python",
     "metadata": {},
     "outputs": [],
     "prompt_number": 8
    },
    {
     "cell_type": "code",
     "collapsed": false,
     "input": [
      "%matplotlib inline\n",
      "\n",
      "import os\n",
      "import numpy\n",
      "import pandas as pd\n",
      "from datetime import datetime\n",
      "\n",
      "# HDFS store filename\n",
      "FSTORE = './data/searches.h5'\n",
      "# Data filename\n",
      "#FDATA = './data/searches2.csv'\n",
      "FDATA = './data/searches.csv'\n",
      "CREATE_HDFS = True\n",
      "\n",
      "def log(msg):\n",
      "    \"\"\"To log message with datetime.\"\"\"\n",
      "    print datetime.now().strftime(\"%Y-%m-%d %H:%M:%S %f\") + ': ' + msg\n",
      "    \n",
      "def createHDFStore(store_filename, data_filename):\n",
      "    \"\"\"Create the HFFStore.\"\"\"\n",
      "    try:\n",
      "        store = pd.HDFStore(store_filename, mode='w')\n",
      "\n",
      "        if 'df' in store:\n",
      "            store.remove('df')\n",
      "\n",
      "        searches_cols = ['Date', 'Destination']\n",
      "\n",
      "        for chunk in pd.read_csv(data_filename, dtype={'Date': numpy.str_, 'Destination': numpy.str_}, chunksize=50000, sep='^', usecols=searches_cols):\n",
      "            #chunk['Destination'] = chunk['Destination'].str.strip()\n",
      "            try:\n",
      "                # Drop row with NA value\n",
      "                chunk = chunk.dropna()\n",
      "                store.append('df',chunk, data_columns=['dateTime', 'Destination'])\n",
      "            except ValueError as e:\n",
      "                chunk.to_csv('./data/error.csv')\n",
      "                raise\n",
      "    finally:\n",
      "        store.close()\n",
      "\n",
      "def searchesByAirport(destination, store):\n",
      "    \"\"\"Count searches by destination airport.\"\"\"\n",
      "    log('Select searches for %s destination airport' % destination)\n",
      "    selection = store.select('df', where=[\"Destination='%s'\" % destination])\n",
      "    \n",
      "    # group by month\n",
      "    log('Convert date column to datetime type (%s)' % destination)\n",
      "    selection['Date'] = pd.to_datetime(selection['Date'])\n",
      "    \n",
      "    log('Group by date with a frequency of one month (%s)' % destination)\n",
      "    grouped = selection.groupby([pd.Grouper(freq='1M', key='Date')])\n",
      "    \n",
      "    # count the number of search\n",
      "    log('Count the number of searches (%s)' % destination)\n",
      "    total = grouped.count()\n",
      "    \n",
      "    # Rearrange DataFrame\n",
      "    log('Rearrange DataFrame (%s)' % destination)\n",
      "    del total['Destination']\n",
      "    total.columns = [destination]\n",
      "    \n",
      "    return total\n",
      " \n",
      "# Create the HDFStore    \n",
      "if CREATE_HDFS:\n",
      "    log('Create HDFS store')\n",
      "    createHDFStore(FSTORE, FDATA)\n",
      "\n",
      "# Open the created store\n",
      "store = pd.HDFStore(FSTORE, mode='r')\n",
      "\n",
      "try:    \n",
      "    # Malaga\n",
      "    malaga = searchesByAirport('AGP', store)\n",
      "    # Madrid\n",
      "    madrid = searchesByAirport('MAD', store)\n",
      "    # Barcelona\n",
      "    barcelona = searchesByAirport('BCN', store)\n",
      "    \n",
      "    # Plot results\n",
      "    log('Plot results')\n",
      "    ax = malaga.plot()\n",
      "    madrid.plot(ax = ax)\n",
      "    barcelona.plot(ax = ax)\n",
      "finally:    \n",
      "    # Release HDFS store\n",
      "    store.close()"
     ],
     "language": "python",
     "metadata": {},
     "outputs": [
      {
       "output_type": "stream",
       "stream": "stdout",
       "text": [
        "2014-09-10 09:49:49 383000: Create HDFS store\n",
        "2014-09-10 09:50:48 960000: Select searches for AGP destination airport"
       ]
      },
      {
       "output_type": "stream",
       "stream": "stdout",
       "text": [
        "\n",
        "2014-09-10 09:50:51 189000: Convert date column to datetime type (AGP)"
       ]
      },
      {
       "output_type": "stream",
       "stream": "stdout",
       "text": [
        "\n",
        "2014-09-10 09:50:51 216000: Group by date with a frequency of one month (AGP)\n",
        "2014-09-10 09:50:51 253000: Count the number of searches (AGP)"
       ]
      },
      {
       "output_type": "stream",
       "stream": "stdout",
       "text": [
        "\n",
        "2014-09-10 09:50:51 269000: Rearrange DataFrame (AGP)\n",
        "2014-09-10 09:50:51 276000: Select searches for MAD destination airport\n",
        "2014-09-10 09:50:52 565000: Convert date column to datetime type (MAD)"
       ]
      },
      {
       "output_type": "stream",
       "stream": "stdout",
       "text": [
        "\n",
        "2014-09-10 09:50:52 636000: Group by date with a frequency of one month (MAD)"
       ]
      },
      {
       "output_type": "stream",
       "stream": "stdout",
       "text": [
        "\n",
        "2014-09-10 09:50:52 738000: Count the number of searches (MAD)"
       ]
      },
      {
       "output_type": "stream",
       "stream": "stdout",
       "text": [
        "\n",
        "2014-09-10 09:50:52 779000: Rearrange DataFrame (MAD)\n",
        "2014-09-10 09:50:52 787000: Select searches for BCN destination airport\n",
        "2014-09-10 09:50:54 144000: Convert date column to datetime type (BCN)"
       ]
      },
      {
       "output_type": "stream",
       "stream": "stdout",
       "text": [
        "\n",
        "2014-09-10 09:50:54 225000: Group by date with a frequency of one month (BCN)"
       ]
      },
      {
       "output_type": "stream",
       "stream": "stdout",
       "text": [
        "\n",
        "2014-09-10 09:50:54 342000: Count the number of searches (BCN)"
       ]
      },
      {
       "output_type": "stream",
       "stream": "stdout",
       "text": [
        "\n",
        "2014-09-10 09:50:54 388000: Rearrange DataFrame (BCN)\n",
        "2014-09-10 09:50:54 397000: Plot results"
       ]
      },
      {
       "output_type": "stream",
       "stream": "stdout",
       "text": [
        "\n"
       ]
      },
      {
       "metadata": {},
       "output_type": "display_data",
       "png": "[encoded data removed]",
       "text": [
        "<matplotlib.figure.Figure at 0x36fc6940>"
       ]
      }
     ],
     "prompt_number": 2
    },
    {
     "cell_type": "heading",
     "level": 2,
     "metadata": {},
     "source": [
      "Bonus exercise: match searches with bookings"
     ]
    },
    {
     "cell_type": "markdown",
     "metadata": {},
     "source": [
      "For every search in the searches file, find out whether the search ended up in a booking or not (using the info in the bookings file). For instance, search and booking origin and destination should match. For the bookings file, origin and destination are the columns dep_port and arr_port, respectively. Generate a CSV file with the search data, and an additional field, containing 1 if the search ended up in a booking, and 0 otherwise. "
     ]
    },
    {
     "cell_type": "code",
     "collapsed": false,
     "input": [
      "import os\n",
      "import numpy\n",
      "import pandas as pd\n",
      "from datetime import datetime\n",
      "\n",
      "import os\n",
      "import numpy\n",
      "import pandas as pd\n",
      "from datetime import datetime\n",
      "\n",
      "# HDFS store filename\n",
      "FSTORE_SEARCHES = './data/searches-all.h5'\n",
      "# Data filename\n",
      "#FDATA_SEARCHES = './data/searches2.csv'\n",
      "FDATA_SEARCHES = './data/searches.csv'\n",
      "CREATE_HDFS = True\n",
      "\n",
      "def log(msg):\n",
      "    \"\"\"To log message with datetime.\"\"\"\n",
      "    print datetime.now().strftime(\"%Y-%m-%d %H:%M:%S %f\") + ': ' + msg\n",
      "    \n",
      "def getTypesFromCSV(filename):\n",
      "    chunker = pd.read_csv(filename, sep='^', chunksize=50000, parse_dates=['Date'])\n",
      "    dtypes = pd.DataFrame([chunk.dtypes for chunk in chunker])\n",
      "    types = dtypes.max().to_dict()\n",
      "    return types;\n",
      "    \n",
      "def createHDFStore(store_filename, data_filename):\n",
      "    \"\"\"Create the HFFStore.\"\"\"\n",
      "    store = pd.HDFStore(store_filename, mode='w')\n",
      "    try: \n",
      "        if 'df' in store:\n",
      "            store.remove('df')\n",
      "\n",
      "        types = getTypesFromCSV(data_filename)\n",
      "        \n",
      "        for chunk in pd.read_csv(data_filename, chunksize=50000, sep='^', dtype=types, parse_dates=['Date']):\n",
      "            try:\n",
      "                store.append('df', chunk, data_columns=['Date', 'Origin', 'Destination'])\n",
      "            except ValueError as e:\n",
      "                print chunk.dtypes\n",
      "                raise\n",
      "    finally:\n",
      "        store.close()\n",
      "        \n",
      "\n",
      "# Create the HDFStore    \n",
      "if CREATE_HDFS:\n",
      "    log('Create HDFS store')\n",
      "    createHDFStore(FSTORE_SEARCHES, FDATA_SEARCHES)\n",
      "    \n",
      "# Open the created store\n",
      "store_searches = pd.HDFStore(FSTORE_SEARCHES, mode='r')\n",
      "print store_searches\n",
      "selection = store_searches.select('df', where=[\"Date = '2013-01-01'\"], )\n",
      "print selection\n",
      "\n",
      "try:\n",
      "    print 'hello'\n",
      "finally:    \n",
      "    # Release HDFS store\n",
      "    store_searches.close()"
     ],
     "language": "python",
     "metadata": {},
     "outputs": [
      {
       "output_type": "stream",
       "stream": "stdout",
       "text": [
        "2014-09-10 17:56:55 082000: Create HDFS store\n"
       ]
      },
      {
       "ename": "KeyboardInterrupt",
       "evalue": "",
       "output_type": "pyerr",
       "traceback": [
        "\u001b[1;31m---------------------------------------------------------------------------\u001b[0m\n\u001b[1;31mKeyboardInterrupt\u001b[0m                         Traceback (most recent call last)",
        "\u001b[1;32m<ipython-input-21-d4afc9103f46>\u001b[0m in \u001b[0;36m<module>\u001b[1;34m()\u001b[0m\n\u001b[0;32m     48\u001b[0m \u001b[1;32mif\u001b[0m \u001b[0mCREATE_HDFS\u001b[0m\u001b[1;33m:\u001b[0m\u001b[1;33m\u001b[0m\u001b[0m\n\u001b[0;32m     49\u001b[0m     \u001b[0mlog\u001b[0m\u001b[1;33m(\u001b[0m\u001b[1;34m'Create HDFS store'\u001b[0m\u001b[1;33m)\u001b[0m\u001b[1;33m\u001b[0m\u001b[0m\n\u001b[1;32m---> 50\u001b[1;33m     \u001b[0mcreateHDFStore\u001b[0m\u001b[1;33m(\u001b[0m\u001b[0mFSTORE_SEARCHES\u001b[0m\u001b[1;33m,\u001b[0m \u001b[0mFDATA_SEARCHES\u001b[0m\u001b[1;33m)\u001b[0m\u001b[1;33m\u001b[0m\u001b[0m\n\u001b[0m\u001b[0;32m     51\u001b[0m \u001b[1;33m\u001b[0m\u001b[0m\n\u001b[0;32m     52\u001b[0m \u001b[1;31m# Open the created store\u001b[0m\u001b[1;33m\u001b[0m\u001b[1;33m\u001b[0m\u001b[0m\n",
        "\u001b[1;32m<ipython-input-21-d4afc9103f46>\u001b[0m in \u001b[0;36mcreateHDFStore\u001b[1;34m(store_filename, data_filename)\u001b[0m\n\u001b[0;32m     33\u001b[0m             \u001b[0mstore\u001b[0m\u001b[1;33m.\u001b[0m\u001b[0mremove\u001b[0m\u001b[1;33m(\u001b[0m\u001b[1;34m'df'\u001b[0m\u001b[1;33m)\u001b[0m\u001b[1;33m\u001b[0m\u001b[0m\n\u001b[0;32m     34\u001b[0m \u001b[1;33m\u001b[0m\u001b[0m\n\u001b[1;32m---> 35\u001b[1;33m         \u001b[0mtypes\u001b[0m \u001b[1;33m=\u001b[0m \u001b[0mgetTypesFromCSV\u001b[0m\u001b[1;33m(\u001b[0m\u001b[0mdata_filename\u001b[0m\u001b[1;33m)\u001b[0m\u001b[1;33m\u001b[0m\u001b[0m\n\u001b[0m\u001b[0;32m     36\u001b[0m \u001b[1;33m\u001b[0m\u001b[0m\n\u001b[0;32m     37\u001b[0m         \u001b[1;32mfor\u001b[0m \u001b[0mchunk\u001b[0m \u001b[1;32min\u001b[0m \u001b[0mpd\u001b[0m\u001b[1;33m.\u001b[0m\u001b[0mread_csv\u001b[0m\u001b[1;33m(\u001b[0m\u001b[0mdata_filename\u001b[0m\u001b[1;33m,\u001b[0m \u001b[0mchunksize\u001b[0m\u001b[1;33m=\u001b[0m\u001b[1;36m50000\u001b[0m\u001b[1;33m,\u001b[0m \u001b[0msep\u001b[0m\u001b[1;33m=\u001b[0m\u001b[1;34m'^'\u001b[0m\u001b[1;33m,\u001b[0m \u001b[0mdtype\u001b[0m\u001b[1;33m=\u001b[0m\u001b[0mtypes\u001b[0m\u001b[1;33m,\u001b[0m \u001b[0mparse_dates\u001b[0m\u001b[1;33m=\u001b[0m\u001b[1;33m[\u001b[0m\u001b[1;34m'Date'\u001b[0m\u001b[1;33m]\u001b[0m\u001b[1;33m)\u001b[0m\u001b[1;33m:\u001b[0m\u001b[1;33m\u001b[0m\u001b[0m\n",
        "\u001b[1;32m<ipython-input-21-d4afc9103f46>\u001b[0m in \u001b[0;36mgetTypesFromCSV\u001b[1;34m(filename)\u001b[0m\n\u001b[0;32m     22\u001b[0m \u001b[1;32mdef\u001b[0m \u001b[0mgetTypesFromCSV\u001b[0m\u001b[1;33m(\u001b[0m\u001b[0mfilename\u001b[0m\u001b[1;33m)\u001b[0m\u001b[1;33m:\u001b[0m\u001b[1;33m\u001b[0m\u001b[0m\n\u001b[0;32m     23\u001b[0m     \u001b[0mchunker\u001b[0m \u001b[1;33m=\u001b[0m \u001b[0mpd\u001b[0m\u001b[1;33m.\u001b[0m\u001b[0mread_csv\u001b[0m\u001b[1;33m(\u001b[0m\u001b[0mfilename\u001b[0m\u001b[1;33m,\u001b[0m \u001b[0msep\u001b[0m\u001b[1;33m=\u001b[0m\u001b[1;34m'^'\u001b[0m\u001b[1;33m,\u001b[0m \u001b[0mchunksize\u001b[0m\u001b[1;33m=\u001b[0m\u001b[1;36m50000\u001b[0m\u001b[1;33m,\u001b[0m \u001b[0mparse_dates\u001b[0m\u001b[1;33m=\u001b[0m\u001b[1;33m[\u001b[0m\u001b[1;34m'Date'\u001b[0m\u001b[1;33m]\u001b[0m\u001b[1;33m)\u001b[0m\u001b[1;33m\u001b[0m\u001b[0m\n\u001b[1;32m---> 24\u001b[1;33m     \u001b[0mdtypes\u001b[0m \u001b[1;33m=\u001b[0m \u001b[0mpd\u001b[0m\u001b[1;33m.\u001b[0m\u001b[0mDataFrame\u001b[0m\u001b[1;33m(\u001b[0m\u001b[1;33m[\u001b[0m\u001b[0mchunk\u001b[0m\u001b[1;33m.\u001b[0m\u001b[0mdtypes\u001b[0m \u001b[1;32mfor\u001b[0m \u001b[0mchunk\u001b[0m \u001b[1;32min\u001b[0m \u001b[0mchunker\u001b[0m\u001b[1;33m]\u001b[0m\u001b[1;33m)\u001b[0m\u001b[1;33m\u001b[0m\u001b[0m\n\u001b[0m\u001b[0;32m     25\u001b[0m     \u001b[0mtypes\u001b[0m \u001b[1;33m=\u001b[0m \u001b[0mdtypes\u001b[0m\u001b[1;33m.\u001b[0m\u001b[0mmax\u001b[0m\u001b[1;33m(\u001b[0m\u001b[1;33m)\u001b[0m\u001b[1;33m.\u001b[0m\u001b[0mto_dict\u001b[0m\u001b[1;33m(\u001b[0m\u001b[1;33m)\u001b[0m\u001b[1;33m\u001b[0m\u001b[0m\n\u001b[0;32m     26\u001b[0m     \u001b[1;32mreturn\u001b[0m \u001b[0mtypes\u001b[0m\u001b[1;33m;\u001b[0m\u001b[1;33m\u001b[0m\u001b[0m\n",
        "\u001b[1;32mD:\\Programs\\Anaconda\\lib\\site-packages\\pandas\\io\\parsers.pyc\u001b[0m in \u001b[0;36m__iter__\u001b[1;34m(self)\u001b[0m\n\u001b[0;32m    660\u001b[0m             \u001b[1;32mif\u001b[0m \u001b[0mself\u001b[0m\u001b[1;33m.\u001b[0m\u001b[0mchunksize\u001b[0m\u001b[1;33m:\u001b[0m\u001b[1;33m\u001b[0m\u001b[0m\n\u001b[0;32m    661\u001b[0m                 \u001b[1;32mwhile\u001b[0m \u001b[0mTrue\u001b[0m\u001b[1;33m:\u001b[0m\u001b[1;33m\u001b[0m\u001b[0m\n\u001b[1;32m--> 662\u001b[1;33m                     \u001b[1;32myield\u001b[0m \u001b[0mself\u001b[0m\u001b[1;33m.\u001b[0m\u001b[0mread\u001b[0m\u001b[1;33m(\u001b[0m\u001b[0mself\u001b[0m\u001b[1;33m.\u001b[0m\u001b[0mchunksize\u001b[0m\u001b[1;33m)\u001b[0m\u001b[1;33m\u001b[0m\u001b[0m\n\u001b[0m\u001b[0;32m    663\u001b[0m             \u001b[1;32melse\u001b[0m\u001b[1;33m:\u001b[0m\u001b[1;33m\u001b[0m\u001b[0m\n\u001b[0;32m    664\u001b[0m                 \u001b[1;32myield\u001b[0m \u001b[0mself\u001b[0m\u001b[1;33m.\u001b[0m\u001b[0mread\u001b[0m\u001b[1;33m(\u001b[0m\u001b[1;33m)\u001b[0m\u001b[1;33m\u001b[0m\u001b[0m\n",
        "\u001b[1;32mD:\\Programs\\Anaconda\\lib\\site-packages\\pandas\\io\\parsers.pyc\u001b[0m in \u001b[0;36mread\u001b[1;34m(self, nrows)\u001b[0m\n\u001b[0;32m    684\u001b[0m                 \u001b[1;32mraise\u001b[0m \u001b[0mValueError\u001b[0m\u001b[1;33m(\u001b[0m\u001b[1;34m'skip_footer not supported for iteration'\u001b[0m\u001b[1;33m)\u001b[0m\u001b[1;33m\u001b[0m\u001b[0m\n\u001b[0;32m    685\u001b[0m \u001b[1;33m\u001b[0m\u001b[0m\n\u001b[1;32m--> 686\u001b[1;33m         \u001b[0mret\u001b[0m \u001b[1;33m=\u001b[0m \u001b[0mself\u001b[0m\u001b[1;33m.\u001b[0m\u001b[0m_engine\u001b[0m\u001b[1;33m.\u001b[0m\u001b[0mread\u001b[0m\u001b[1;33m(\u001b[0m\u001b[0mnrows\u001b[0m\u001b[1;33m)\u001b[0m\u001b[1;33m\u001b[0m\u001b[0m\n\u001b[0m\u001b[0;32m    687\u001b[0m \u001b[1;33m\u001b[0m\u001b[0m\n\u001b[0;32m    688\u001b[0m         \u001b[1;32mif\u001b[0m \u001b[0mself\u001b[0m\u001b[1;33m.\u001b[0m\u001b[0moptions\u001b[0m\u001b[1;33m.\u001b[0m\u001b[0mget\u001b[0m\u001b[1;33m(\u001b[0m\u001b[1;34m'as_recarray'\u001b[0m\u001b[1;33m)\u001b[0m\u001b[1;33m:\u001b[0m\u001b[1;33m\u001b[0m\u001b[0m\n",
        "\u001b[1;32mD:\\Programs\\Anaconda\\lib\\site-packages\\pandas\\io\\parsers.pyc\u001b[0m in \u001b[0;36mread\u001b[1;34m(self, nrows)\u001b[0m\n\u001b[0;32m   1128\u001b[0m \u001b[1;33m\u001b[0m\u001b[0m\n\u001b[0;32m   1129\u001b[0m         \u001b[1;32mtry\u001b[0m\u001b[1;33m:\u001b[0m\u001b[1;33m\u001b[0m\u001b[0m\n\u001b[1;32m-> 1130\u001b[1;33m             \u001b[0mdata\u001b[0m \u001b[1;33m=\u001b[0m \u001b[0mself\u001b[0m\u001b[1;33m.\u001b[0m\u001b[0m_reader\u001b[0m\u001b[1;33m.\u001b[0m\u001b[0mread\u001b[0m\u001b[1;33m(\u001b[0m\u001b[0mnrows\u001b[0m\u001b[1;33m)\u001b[0m\u001b[1;33m\u001b[0m\u001b[0m\n\u001b[0m\u001b[0;32m   1131\u001b[0m         \u001b[1;32mexcept\u001b[0m \u001b[0mStopIteration\u001b[0m\u001b[1;33m:\u001b[0m\u001b[1;33m\u001b[0m\u001b[0m\n\u001b[0;32m   1132\u001b[0m             \u001b[1;32mif\u001b[0m \u001b[0mnrows\u001b[0m \u001b[1;32mis\u001b[0m \u001b[0mNone\u001b[0m\u001b[1;33m:\u001b[0m\u001b[1;33m\u001b[0m\u001b[0m\n",
        "\u001b[1;31mKeyboardInterrupt\u001b[0m: "
       ]
      }
     ],
     "prompt_number": 21
    },
    {
     "cell_type": "heading",
     "level": 2,
     "metadata": {},
     "source": [
      "Bonus exercise: write a Web Service"
     ]
    },
    {
     "cell_type": "markdown",
     "metadata": {},
     "source": [
      "Wrap the output of the second exercise in a web service that returns the data in JSON format (instead of printing to the standard output). The web service should accept a parameter n>0. For the top 10 airports, n is 10. For the X top airports, n is X.\n",
      "\n",
      "Solution based on this blog post: http://www.dreamsyssoft.com/blog/blog.php?/archives/6-Create-a-simple-REST-web-service-with-Python.html\n",
      "\n",
      "Prerequisite: Run second exercise"
     ]
    },
    {
     "cell_type": "code",
     "collapsed": false,
     "input": [
      "import web\n",
      "import pandas as pd\n",
      "import json\n",
      "\n",
      "class WebApplication(web.application): \n",
      "          def run(self, port=8080, *middleware): \n",
      "              func = self.wsgifunc(*middleware) \n",
      "              return web.httpserver.runsimple(func, ('0.0.0.0', port)) \n",
      "\n",
      "FRESULT  ='./data/topairports.csv'\n",
      "\n",
      "urls = (\n",
      "    '/top/(.*)', 'TopAirportsGetter'\n",
      ")\n",
      "\n",
      "def log(msg):\n",
      "    \"\"\"To log message with datetime.\"\"\"\n",
      "    print datetime.now().strftime(\"%Y-%m-%d %H:%M:%S %f\") + ': ' + msg\n",
      "\n",
      "def toJson(df):\n",
      "    \"\"\"Convert the provided data frame to json.\"\"\"\n",
      "    d = [ \n",
      "        dict([\n",
      "            (colname, row[i]) \n",
      "            for i,colname in enumerate(df.columns)\n",
      "        ])\n",
      "        for row in df.values\n",
      "    ]\n",
      "    return json.dumps(d)\n",
      "\n",
      "# Load the result data frame in memory\n",
      "top = pd.read_csv(FRESULT, sep='\\t')\n",
      "top= top.rename(columns = {'Unnamed: 0':'code'})\n",
      "top_size = len(top.index)\n",
      "\n",
      "app = WebApplication(urls, globals())\n",
      "\n",
      "class TopAirportsGetter:\n",
      "    def GET(self, nb_param):\n",
      "        nb = int(nb_param)\n",
      "        if nb <= 0:\n",
      "            nb = 0\n",
      "        if nb > top_size:\n",
      "            nb = top_size\n",
      "        out = top[:nb]\n",
      "        return toJson(out)\n",
      "    \n",
      "log('Web service running at http://localhost:8080 ...')\n",
      "app.run()"
     ],
     "language": "python",
     "metadata": {},
     "outputs": [
      {
       "output_type": "stream",
       "stream": "stdout",
       "text": [
        "2014-09-10 14:52:04 382000: Web service running at http://localhost:8080 ...\n",
        "http://0.0.0.0:8080/\n"
       ]
      },
      {
       "output_type": "stream",
       "stream": "stderr",
       "text": [
        "127.0.0.1:64532 - - [10/Sep/2014 14:52:10] \"HTTP/1.1 GET /top/10\" - 200 OK\n"
       ]
      }
     ],
     "prompt_number": 38
    },
    {
     "cell_type": "code",
     "collapsed": false,
     "input": [],
     "language": "python",
     "metadata": {},
     "outputs": [],
     "prompt_number": 21
    }
   ],
   "metadata": {}
  }
 ]
}