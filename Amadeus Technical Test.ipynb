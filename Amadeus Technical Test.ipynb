{
 "metadata": {
  "name": "",
  "signature": "sha256:375174a7d8cb844797cb984d5e02d697a705a3595205cf7777214fe33403eff1"
 },
 "nbformat": 3,
 "nbformat_minor": 0,
 "worksheets": [
  {
   "cells": [
    {
     "cell_type": "heading",
     "level": 1,
     "metadata": {},
     "source": [
      "Amadeus Technical Test"
     ]
    },
    {
     "cell_type": "heading",
     "level": 2,
     "metadata": {},
     "source": [
      "First exercise: count the number of lines in Python for each file"
     ]
    },
    {
     "cell_type": "markdown",
     "metadata": {},
     "source": [
      "Based on this solution: http://stackoverflow.com/a/9631635"
     ]
    },
    {
     "cell_type": "code",
     "collapsed": false,
     "input": [
      "def blocks(files, size=65536):\n",
      "    while True:\n",
      "        b = files.read(size)\n",
      "        if not b: break\n",
      "        yield b\n",
      "\n",
      "def count(file):\n",
      "    with open(file, \"r\") as f:\n",
      "        return sum(bl.count(\"\\n\") for bl in blocks(f))\n",
      "\n",
      "print 'The number of lines for bookings.csv is' , count('./data/bookings.csv')\n",
      "print 'The number of lines for searches.csv is' , count('./data/searches.csv')\n"
     ],
     "language": "python",
     "metadata": {},
     "outputs": [
      {
       "output_type": "stream",
       "stream": "stdout",
       "text": [
        "The number of lines for bookings.csv is "
       ]
      },
      {
       "output_type": "stream",
       "stream": "stdout",
       "text": [
        "10000011\n",
        "The number of lines for searches.csv is "
       ]
      },
      {
       "output_type": "stream",
       "stream": "stdout",
       "text": [
        "20390198\n"
       ]
      }
     ],
     "prompt_number": 8
    },
    {
     "cell_type": "heading",
     "level": 2,
     "metadata": {},
     "source": [
      "Second exercise: top 10 arrival airports in the world in 2013 (using the bookings file)"
     ]
    },
    {
     "cell_type": "markdown",
     "metadata": {},
     "source": [
      "Arrival airport is the column arr_port. It is the IATA code for the airport\n",
      "\n",
      "To get the total number of passengers for an airport, you can sum the column pax, grouping by arr_port. Note that there is negative pax. That corresponds to cancelations. So to get the total number of passengers that have actually booked, you should sum including the negatives (that will remove the canceled bookings).\n",
      "\n",
      "Print the top 10 arrival airports in the standard output, including the number of passengers.\n",
      "\n",
      "Bonus point: Get the name of the city or airport corresponding to that airport (programatically, we suggest to have a look at GeoBases in Github)\n",
      "\n",
      "Bonus point: Solve this problem using pandas (instead of any other approach) "
     ]
    },
    {
     "cell_type": "code",
     "collapsed": false,
     "input": [
      "import pandas as pd"
     ],
     "language": "python",
     "metadata": {},
     "outputs": [],
     "prompt_number": 2
    },
    {
     "cell_type": "heading",
     "level": 3,
     "metadata": {},
     "source": [
      "Data overview"
     ]
    },
    {
     "cell_type": "code",
     "collapsed": false,
     "input": [
      "import pandas as pd\n",
      "\n",
      "bookings_data = pd.read_csv(\"./data/bookings.csv\", error_bad_lines=False, sep='^', nrows=100)\n",
      "bookings_data[:5]"
     ],
     "language": "python",
     "metadata": {},
     "outputs": [
      {
       "html": [
        "<div style=\"max-height:1000px;max-width:1500px;overflow:auto;\">\n",
        "<table border=\"1\" class=\"dataframe\">\n",
        "  <thead>\n",
        "    <tr style=\"text-align: right;\">\n",
        "      <th></th>\n",
        "      <th>act_date           </th>\n",
        "      <th>source</th>\n",
        "      <th>pos_ctry</th>\n",
        "      <th>pos_iata</th>\n",
        "      <th>pos_oid  </th>\n",
        "      <th>rloc          </th>\n",
        "      <th>cre_date           </th>\n",
        "      <th>duration</th>\n",
        "      <th>distance</th>\n",
        "      <th>dep_port</th>\n",
        "      <th>...</th>\n",
        "      <th>route          </th>\n",
        "      <th>carrier</th>\n",
        "      <th>bkg_class</th>\n",
        "      <th>cab_class</th>\n",
        "      <th>brd_time           </th>\n",
        "      <th>off_time           </th>\n",
        "      <th>pax</th>\n",
        "      <th>year</th>\n",
        "      <th>month</th>\n",
        "      <th>oid      </th>\n",
        "    </tr>\n",
        "  </thead>\n",
        "  <tbody>\n",
        "    <tr>\n",
        "      <th>0</th>\n",
        "      <td> 2013-03-05 00:00:00</td>\n",
        "      <td> 1A    </td>\n",
        "      <td> DE      </td>\n",
        "      <td> a68dd7ae953c8acfb187a1af2dcbe123</td>\n",
        "      <td> 1a11ae49fcbf545fd2afc1a24d88d2b7</td>\n",
        "      <td> ea65900e72d71f4626378e2ebd298267</td>\n",
        "      <td> 2013-02-22 00:00:00</td>\n",
        "      <td>   1708</td>\n",
        "      <td> 0</td>\n",
        "      <td> ZRH     </td>\n",
        "      <td>...</td>\n",
        "      <td> LHRZRH         </td>\n",
        "      <td> VI</td>\n",
        "      <td> T        </td>\n",
        "      <td> Y        </td>\n",
        "      <td> 2013-03-07 08:50:00</td>\n",
        "      <td> 2013-03-07 11:33:37</td>\n",
        "      <td>-1</td>\n",
        "      <td> 2013</td>\n",
        "      <td> 3</td>\n",
        "      <td> NULL     </td>\n",
        "    </tr>\n",
        "    <tr>\n",
        "      <th>1</th>\n",
        "      <td> 2013-03-26 00:00:00</td>\n",
        "      <td> 1A    </td>\n",
        "      <td> US      </td>\n",
        "      <td> e612b9eeeee6f17f42d9b0d3b79e75ca</td>\n",
        "      <td> 7437560d8f276d6d05eeb806d9e7edee</td>\n",
        "      <td> 737295a86982c941f1c2da9a46a14043</td>\n",
        "      <td> 2013-03-26 00:00:00</td>\n",
        "      <td> 135270</td>\n",
        "      <td> 0</td>\n",
        "      <td> SAL     </td>\n",
        "      <td>...</td>\n",
        "      <td> SALATLCLT      </td>\n",
        "      <td> NV</td>\n",
        "      <td> L        </td>\n",
        "      <td> Y        </td>\n",
        "      <td> 2013-04-12 13:04:00</td>\n",
        "      <td> 2013-04-12 22:05:40</td>\n",
        "      <td> 1</td>\n",
        "      <td> 2013</td>\n",
        "      <td> 3</td>\n",
        "      <td> NULL     </td>\n",
        "    </tr>\n",
        "    <tr>\n",
        "      <th>2</th>\n",
        "      <td> 2013-03-26 00:00:00</td>\n",
        "      <td> 1A    </td>\n",
        "      <td> US      </td>\n",
        "      <td> e612b9eeeee6f17f42d9b0d3b79e75ca</td>\n",
        "      <td> 7437560d8f276d6d05eeb806d9e7edee</td>\n",
        "      <td> 737295a86982c941f1c2da9a46a14043</td>\n",
        "      <td> 2013-03-26 00:00:00</td>\n",
        "      <td> 135270</td>\n",
        "      <td> 0</td>\n",
        "      <td> SAL     </td>\n",
        "      <td>...</td>\n",
        "      <td> CLTATLSAL      </td>\n",
        "      <td> NV</td>\n",
        "      <td> U        </td>\n",
        "      <td> Y        </td>\n",
        "      <td> 2013-07-15 07:00:00</td>\n",
        "      <td> 2013-07-15 11:34:51</td>\n",
        "      <td> 1</td>\n",
        "      <td> 2013</td>\n",
        "      <td> 3</td>\n",
        "      <td> NULL     </td>\n",
        "    </tr>\n",
        "    <tr>\n",
        "      <th>3</th>\n",
        "      <td> 2013-03-26 00:00:00</td>\n",
        "      <td> 1A    </td>\n",
        "      <td> AU      </td>\n",
        "      <td> 0f984b3bb6bd06661c95529bbd6193bc</td>\n",
        "      <td> 36472c6dbaf7afec9136ac40364e2794</td>\n",
        "      <td> 5ecf00fdcbcec761c43dc7285253d0c1</td>\n",
        "      <td> 2013-03-26 00:00:00</td>\n",
        "      <td>  30885</td>\n",
        "      <td> 0</td>\n",
        "      <td> AKL     </td>\n",
        "      <td>...</td>\n",
        "      <td> AKLHKGSVO      </td>\n",
        "      <td> XK</td>\n",
        "      <td> G        </td>\n",
        "      <td> Y        </td>\n",
        "      <td> 2013-04-24 23:59:00</td>\n",
        "      <td> 2013-04-25 16:06:31</td>\n",
        "      <td> 1</td>\n",
        "      <td> 2013</td>\n",
        "      <td> 3</td>\n",
        "      <td> SYDA82546</td>\n",
        "    </tr>\n",
        "    <tr>\n",
        "      <th>4</th>\n",
        "      <td> 2013-03-26 00:00:00</td>\n",
        "      <td> 1A    </td>\n",
        "      <td> AU      </td>\n",
        "      <td> 0f984b3bb6bd06661c95529bbd6193bc</td>\n",
        "      <td> 36472c6dbaf7afec9136ac40364e2794</td>\n",
        "      <td> 5ecf00fdcbcec761c43dc7285253d0c1</td>\n",
        "      <td> 2013-03-26 00:00:00</td>\n",
        "      <td>  30885</td>\n",
        "      <td> 0</td>\n",
        "      <td> AKL     </td>\n",
        "      <td>...</td>\n",
        "      <td> SVOHKGAKL      </td>\n",
        "      <td> XK</td>\n",
        "      <td> G        </td>\n",
        "      <td> Y        </td>\n",
        "      <td> 2013-05-14 20:15:00</td>\n",
        "      <td> 2013-05-16 10:44:50</td>\n",
        "      <td> 1</td>\n",
        "      <td> 2013</td>\n",
        "      <td> 3</td>\n",
        "      <td> SYDA82546</td>\n",
        "    </tr>\n",
        "  </tbody>\n",
        "</table>\n",
        "<p>5 rows \u00d7 38 columns</p>\n",
        "</div>"
       ],
       "metadata": {},
       "output_type": "pyout",
       "prompt_number": 5,
       "text": [
        "   act_date             source  pos_ctry                          pos_iata  \\\n",
        "0  2013-03-05 00:00:00  1A      DE        a68dd7ae953c8acfb187a1af2dcbe123   \n",
        "1  2013-03-26 00:00:00  1A      US        e612b9eeeee6f17f42d9b0d3b79e75ca   \n",
        "2  2013-03-26 00:00:00  1A      US        e612b9eeeee6f17f42d9b0d3b79e75ca   \n",
        "3  2013-03-26 00:00:00  1A      AU        0f984b3bb6bd06661c95529bbd6193bc   \n",
        "4  2013-03-26 00:00:00  1A      AU        0f984b3bb6bd06661c95529bbd6193bc   \n",
        "\n",
        "                          pos_oid                      rloc            \\\n",
        "0  1a11ae49fcbf545fd2afc1a24d88d2b7  ea65900e72d71f4626378e2ebd298267   \n",
        "1  7437560d8f276d6d05eeb806d9e7edee  737295a86982c941f1c2da9a46a14043   \n",
        "2  7437560d8f276d6d05eeb806d9e7edee  737295a86982c941f1c2da9a46a14043   \n",
        "3  36472c6dbaf7afec9136ac40364e2794  5ecf00fdcbcec761c43dc7285253d0c1   \n",
        "4  36472c6dbaf7afec9136ac40364e2794  5ecf00fdcbcec761c43dc7285253d0c1   \n",
        "\n",
        "   cre_date             duration  distance  dep_port    ...     \\\n",
        "0  2013-02-22 00:00:00      1708         0  ZRH         ...      \n",
        "1  2013-03-26 00:00:00    135270         0  SAL         ...      \n",
        "2  2013-03-26 00:00:00    135270         0  SAL         ...      \n",
        "3  2013-03-26 00:00:00     30885         0  AKL         ...      \n",
        "4  2013-03-26 00:00:00     30885         0  AKL         ...      \n",
        "\n",
        "   route           carrier  bkg_class  cab_class  brd_time             \\\n",
        "0  LHRZRH               VI  T          Y          2013-03-07 08:50:00   \n",
        "1  SALATLCLT            NV  L          Y          2013-04-12 13:04:00   \n",
        "2  CLTATLSAL            NV  U          Y          2013-07-15 07:00:00   \n",
        "3  AKLHKGSVO            XK  G          Y          2013-04-24 23:59:00   \n",
        "4  SVOHKGAKL            XK  G          Y          2013-05-14 20:15:00   \n",
        "\n",
        "   off_time            pax  year month  oid        \n",
        "0  2013-03-07 11:33:37  -1  2013     3  NULL       \n",
        "1  2013-04-12 22:05:40   1  2013     3  NULL       \n",
        "2  2013-07-15 11:34:51   1  2013     3  NULL       \n",
        "3  2013-04-25 16:06:31   1  2013     3  SYDA82546  \n",
        "4  2013-05-16 10:44:50   1  2013     3  SYDA82546  \n",
        "\n",
        "[5 rows x 38 columns]"
       ]
      }
     ],
     "prompt_number": 5
    },
    {
     "cell_type": "heading",
     "level": 3,
     "metadata": {},
     "source": [
      "Create a subset for test purpose"
     ]
    },
    {
     "cell_type": "code",
     "collapsed": false,
     "input": [
      "bookings_data[:100].to_csv(\"./data/bookings2.csv\", sep='^')"
     ],
     "language": "python",
     "metadata": {},
     "outputs": [],
     "prompt_number": 6
    },
    {
     "cell_type": "markdown",
     "metadata": {},
     "source": [
      "Based on this solution http://stackoverflow.com/a/15800314"
     ]
    },
    {
     "cell_type": "code",
     "collapsed": false,
     "input": [
      "import os\n",
      "import numpy\n",
      "import pandas as pd\n",
      "\n",
      "fname = 'bookings.h5'\n",
      "store = pd.HDFStore(fname,mode='w')\n",
      "\n",
      "if 'df' in store:\n",
      "    store.remove('df')\n",
      "    \n",
      "bookings_cols = ['pax', 'arr_port']\n",
      "\n",
      "for chunk in pd.read_csv('./data/bookings2.csv', dtype={'arr_port': numpy.str_, 'pax': numpy.float32}, chunksize=50000, error_bad_lines=False, sep='^', usecols=bookings_cols):\n",
      "         store.append('df',chunk, data_columns=True)\n",
      "\n",
      "print \"store:\\n%s\" % store\n",
      "\n",
      "# get the groups\n",
      "groups = store.select_column('df','arr_port').unique()\n",
      "    \n",
      "# iterate over the groups and apply my operations\n",
      "l = []\n",
      "for g in groups:\n",
      "\n",
      "    grp = store.select('df',where = \"arr_port='%s'\" % g)\n",
      "\n",
      "    # this is a regular frame, aggregate however you would like\n",
      "    l.append(grp[['pax']].sum())\n",
      "\n",
      "# Release HDFS store\n",
      "store.close()\n",
      "os.remove(fname)    \n",
      "    \n",
      "# Concatenate groups + sums\n",
      "res = pd.concat(l, keys=groups)\n",
      "# Sort in descending order\n",
      "\n",
      "print \"\\nresult:\\n%s\" % res"
     ],
     "language": "python",
     "metadata": {},
     "outputs": [
      {
       "output_type": "stream",
       "stream": "stdout",
       "text": [
        "store:\n",
        "<class 'pandas.io.pytables.HDFStore'>\n",
        "File path: bookings.h5\n",
        "/df            frame_table  (typ->appendable,nrows->100,ncols->2,indexers->[index],dc->[arr_port,pax])\n",
        "\n",
        "result:\n",
        "LHR       pax   -1\n",
        "CLT       pax    2\n",
        "SVO       pax    2\n",
        "LGA       pax    2\n",
        "SIN       pax    4\n",
        "TUS       pax    1\n",
        "CTA       pax    0\n",
        "YWG       pax    4\n",
        "PVG       pax    6\n",
        "SGC       pax    1\n",
        "ALG       pax    0\n",
        "DMM       pax    2\n",
        "LED       pax    1\n",
        "LIS       pax    4\n",
        "BLR       pax    1\n",
        "BWI       pax    6\n",
        "DEL       pax    0\n",
        "TPA       pax    2\n",
        "MNL       pax    0\n",
        "ULN       pax    2\n",
        "ZRH       pax   -1\n",
        "ALA       pax    2\n",
        "FCO       pax    3\n",
        "AYT       pax    3\n",
        "MVD       pax    2\n",
        "CVG       pax    2\n",
        "OTP       pax    2\n",
        "CDG       pax    2\n",
        "HAV       pax    0\n",
        "NRT       pax    6\n",
        "dtype: float64"
       ]
      },
      {
       "output_type": "stream",
       "stream": "stdout",
       "text": [
        "\n"
       ]
      }
     ],
     "prompt_number": 7
    },
    {
     "cell_type": "code",
     "collapsed": false,
     "input": [],
     "language": "python",
     "metadata": {},
     "outputs": []
    }
   ],
   "metadata": {}
  }
 ]
}